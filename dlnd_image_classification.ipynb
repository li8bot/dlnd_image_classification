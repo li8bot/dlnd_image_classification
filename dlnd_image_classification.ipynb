{
 "cells": [
  {
   "cell_type": "markdown",
   "metadata": {
    "collapsed": true,
    "deletable": true,
    "editable": true
   },
   "source": [
    "# Image Classification\n",
    "In this project, you'll classify images from the [CIFAR-10 dataset](https://www.cs.toronto.edu/~kriz/cifar.html).  The dataset consists of airplanes, dogs, cats, and other objects. You'll preprocess the images, then train a convolutional neural network on all the samples. The images need to be normalized and the labels need to be one-hot encoded.  You'll get to apply what you learned and build a convolutional, max pooling, dropout, and fully connected layers.  At the end, you'll get to see your neural network's predictions on the sample images.\n",
    "## Get the Data\n",
    "Run the following cell to download the [CIFAR-10 dataset for python](https://www.cs.toronto.edu/~kriz/cifar-10-python.tar.gz)."
   ]
  },
  {
   "cell_type": "code",
   "execution_count": 1,
   "metadata": {
    "collapsed": false,
    "deletable": true,
    "editable": true
   },
   "outputs": [
    {
     "name": "stderr",
     "output_type": "stream",
     "text": [
      "CIFAR-10 Dataset: 171MB [01:01, 2.78MB/s]                               \n"
     ]
    },
    {
     "name": "stdout",
     "output_type": "stream",
     "text": [
      "All files found!\n"
     ]
    }
   ],
   "source": [
    "\"\"\"\n",
    "DON'T MODIFY ANYTHING IN THIS CELL THAT IS BELOW THIS LINE\n",
    "\"\"\"\n",
    "from urllib.request import urlretrieve\n",
    "from os.path import isfile, isdir\n",
    "from tqdm import tqdm\n",
    "import problem_unittests as tests\n",
    "import tarfile\n",
    "\n",
    "cifar10_dataset_folder_path = 'cifar-10-batches-py'\n",
    "\n",
    "class DLProgress(tqdm):\n",
    "    last_block = 0\n",
    "\n",
    "    def hook(self, block_num=1, block_size=1, total_size=None):\n",
    "        self.total = total_size\n",
    "        self.update((block_num - self.last_block) * block_size)\n",
    "        self.last_block = block_num\n",
    "\n",
    "if not isfile('cifar-10-python.tar.gz'):\n",
    "    with DLProgress(unit='B', unit_scale=True, miniters=1, desc='CIFAR-10 Dataset') as pbar:\n",
    "        urlretrieve(\n",
    "            'https://www.cs.toronto.edu/~kriz/cifar-10-python.tar.gz',\n",
    "            'cifar-10-python.tar.gz',\n",
    "            pbar.hook)\n",
    "\n",
    "if not isdir(cifar10_dataset_folder_path):\n",
    "    with tarfile.open('cifar-10-python.tar.gz') as tar:\n",
    "        tar.extractall()\n",
    "        tar.close()\n",
    "\n",
    "\n",
    "tests.test_folder_path(cifar10_dataset_folder_path)"
   ]
  },
  {
   "cell_type": "markdown",
   "metadata": {
    "deletable": true,
    "editable": true
   },
   "source": [
    "## Explore the Data\n",
    "The dataset is broken into batches to prevent your machine from running out of memory.  The CIFAR-10 dataset consists of 5 batches, named `data_batch_1`, `data_batch_2`, etc.. Each batch contains the labels and images that are one of the following:\n",
    "* airplane\n",
    "* automobile\n",
    "* bird\n",
    "* cat\n",
    "* deer\n",
    "* dog\n",
    "* frog\n",
    "* horse\n",
    "* ship\n",
    "* truck\n",
    "\n",
    "Understanding a dataset is part of making predictions on the data.  Play around with the code cell below by changing the `batch_id` and `sample_id`. The `batch_id` is the id for a batch (1-5). The `sample_id` is the id for a image and label pair in the batch.\n",
    "\n",
    "Ask yourself \"What are all possible labels?\", \"What is the range of values for the image data?\", \"Are the labels in order or random?\".  Answers to questions like these will help you preprocess the data and end up with better predictions."
   ]
  },
  {
   "cell_type": "code",
   "execution_count": 4,
   "metadata": {
    "collapsed": false,
    "deletable": true,
    "editable": true
   },
   "outputs": [
    {
     "name": "stdout",
     "output_type": "stream",
     "text": [
      "\n",
      "Stats of batch 3:\n",
      "Samples: 10000\n",
      "Label Counts: {0: 994, 1: 1042, 2: 965, 3: 997, 4: 990, 5: 1029, 6: 978, 7: 1015, 8: 961, 9: 1029}\n",
      "First 20 Labels: [8, 5, 0, 6, 9, 2, 8, 3, 6, 2, 7, 4, 6, 9, 0, 0, 7, 3, 7, 2]\n",
      "\n",
      "Example of Image 6:\n",
      "Image - Min Value: 30 Max Value: 242\n",
      "Image - Shape: (32, 32, 3)\n",
      "Label - Label Id: 8 Name: ship\n"
     ]
    },
    {
     "data": {
      "image/png": "[encoded data removed]",
      "text/plain": [
       "<matplotlib.figure.Figure at 0x7f2251e36780>"
      ]
     },
     "metadata": {
      "image/png": {
       "height": 250,
       "width": 253
      }
     },
     "output_type": "display_data"
    }
   ],
   "source": [
    "%matplotlib inline\n",
    "%config InlineBackend.figure_format = 'retina'\n",
    "\n",
    "import helper\n",
    "import numpy as np\n",
    "\n",
    "# Explore the dataset\n",
    "batch_id = 3\n",
    "sample_id = 6\n",
    "helper.display_stats(cifar10_dataset_folder_path, batch_id, sample_id)"
   ]
  },
  {
   "cell_type": "markdown",
   "metadata": {
    "deletable": true,
    "editable": true
   },
   "source": [
    "## Implement Preprocess Functions\n",
    "### Normalize\n",
    "In the cell below, implement the `normalize` function to take in image data, `x`, and return it as a normalized Numpy array. The values should be in the range of 0 to 1, inclusive.  The return object should be the same shape as `x`."
   ]
  },
  {
   "cell_type": "code",
   "execution_count": 5,
   "metadata": {
    "collapsed": false,
    "deletable": true,
    "editable": true
   },
   "outputs": [
    {
     "name": "stdout",
     "output_type": "stream",
     "text": [
      "Tests Passed\n"
     ]
    }
   ],
   "source": [
    "def normalize(x):\n",
    "    \"\"\"\n",
    "    Normalize a list of sample image data in the range of 0 to 1\n",
    "    : x: List of image data.  The image shape is (32, 32, 3)\n",
    "    : return: Numpy array of normalize data\n",
    "    \"\"\"\n",
    "    # TODO: Implement Function\n",
    "    return x/255\n",
    "\n",
    "\n",
    "\"\"\"\n",
    "DON'T MODIFY ANYTHING IN THIS CELL THAT IS BELOW THIS LINE\n",
    "\"\"\"\n",
    "tests.test_normalize(normalize)"
   ]
  },
  {
   "cell_type": "markdown",
   "metadata": {
    "deletable": true,
    "editable": true
   },
   "source": [
    "### One-hot encode\n",
    "Just like the previous code cell, you'll be implementing a function for preprocessing.  This time, you'll implement the `one_hot_encode` function. The input, `x`, are a list of labels.  Implement the function to return the list of labels as One-Hot encoded Numpy array.  The possible values for labels are 0 to 9. The one-hot encoding function should return the same encoding for each value between each call to `one_hot_encode`.  Make sure to save the map of encodings outside the function.\n",
    "\n",
    "Hint: Don't reinvent the wheel."
   ]
  },
  {
   "cell_type": "code",
   "execution_count": 6,
   "metadata": {
    "collapsed": false,
    "deletable": true,
    "editable": true
   },
   "outputs": [
    {
     "name": "stdout",
     "output_type": "stream",
     "text": [
      "Tests Passed\n"
     ]
    }
   ],
   "source": [
    "def one_hot_encode(x):\n",
    "    \"\"\"\n",
    "    One hot encode a list of sample labels. Return a one-hot encoded vector for each label.\n",
    "    : x: List of sample Labels\n",
    "    : return: Numpy array of one-hot encoded labels\n",
    "    \"\"\"\n",
    "    # TODO: Implement Function\n",
    "    result = np.zeros((len(x), 10))\n",
    "    result[np.arange(len(x)), x] = 1\n",
    "    return result\n",
    "\n",
    "\n",
    "\"\"\"\n",
    "DON'T MODIFY ANYTHING IN THIS CELL THAT IS BELOW THIS LINE\n",
    "\"\"\"\n",
    "tests.test_one_hot_encode(one_hot_encode)"
   ]
  },
  {
   "cell_type": "markdown",
   "metadata": {
    "deletable": true,
    "editable": true
   },
   "source": [
    "### Randomize Data\n",
    "As you saw from exploring the data above, the order of the samples are randomized.  It doesn't hurt to randomize it again, but you don't need to for this dataset."
   ]
  },
  {
   "cell_type": "markdown",
   "metadata": {
    "deletable": true,
    "editable": true
   },
   "source": [
    "## Preprocess all the data and save it\n",
    "Running the code cell below will preprocess all the CIFAR-10 data and save it to file. The code below also uses 10% of the training data for validation."
   ]
  },
  {
   "cell_type": "code",
   "execution_count": 7,
   "metadata": {
    "collapsed": false,
    "deletable": true,
    "editable": true
   },
   "outputs": [],
   "source": [
    "\"\"\"\n",
    "DON'T MODIFY ANYTHING IN THIS CELL\n",
    "\"\"\"\n",
    "# Preprocess Training, Validation, and Testing Data\n",
    "helper.preprocess_and_save_data(cifar10_dataset_folder_path, normalize, one_hot_encode)"
   ]
  },
  {
   "cell_type": "markdown",
   "metadata": {
    "deletable": true,
    "editable": true
   },
   "source": [
    "# Check Point\n",
    "This is your first checkpoint.  If you ever decide to come back to this notebook or have to restart the notebook, you can start from here.  The preprocessed data has been saved to disk."
   ]
  },
  {
   "cell_type": "code",
   "execution_count": 8,
   "metadata": {
    "collapsed": true,
    "deletable": true,
    "editable": true
   },
   "outputs": [],
   "source": [
    "\"\"\"\n",
    "DON'T MODIFY ANYTHING IN THIS CELL\n",
    "\"\"\"\n",
    "import pickle\n",
    "import problem_unittests as tests\n",
    "import helper\n",
    "\n",
    "# Load the Preprocessed Validation data\n",
    "valid_features, valid_labels = pickle.load(open('preprocess_validation.p', mode='rb'))"
   ]
  },
  {
   "cell_type": "markdown",
   "metadata": {
    "deletable": true,
    "editable": true
   },
   "source": [
    "## Build the network\n",
    "For the neural network, you'll build each layer into a function.  Most of the code you've seen has been outside of functions. To test your code more thoroughly, we require that you put each layer in a function.  This allows us to give you better feedback and test for simple mistakes using our unittests before you submit your project.\n",
    "\n",
    ">**Note:** If you're finding it hard to dedicate enough time for this course each week, we've provided a small shortcut to this part of the project. In the next couple of problems, you'll have the option to use classes from the [TensorFlow Layers](https://www.tensorflow.org/api_docs/python/tf/layers) or [TensorFlow Layers (contrib)](https://www.tensorflow.org/api_guides/python/contrib.layers) packages to build each layer, except the layers you build in the \"Convolutional and Max Pooling Layer\" section.  TF Layers is similar to Keras's and TFLearn's abstraction to layers, so it's easy to pickup.\n",
    "\n",
    ">However, if you would like to get the most out of this course, try to solve all the problems _without_ using anything from the TF Layers packages. You **can** still use classes from other packages that happen to have the same name as ones you find in TF Layers! For example, instead of using the TF Layers version of the `conv2d` class, [tf.layers.conv2d](https://www.tensorflow.org/api_docs/python/tf/layers/conv2d), you would want to use the TF Neural Network version of `conv2d`, [tf.nn.conv2d](https://www.tensorflow.org/api_docs/python/tf/nn/conv2d). \n",
    "\n",
    "Let's begin!\n",
    "\n",
    "### Input\n",
    "The neural network needs to read the image data, one-hot encoded labels, and dropout keep probability. Implement the following functions\n",
    "* Implement `neural_net_image_input`\n",
    " * Return a [TF Placeholder](https://www.tensorflow.org/api_docs/python/tf/placeholder)\n",
    " * Set the shape using `image_shape` with batch size set to `None`.\n",
    " * Name the TensorFlow placeholder \"x\" using the TensorFlow `name` parameter in the [TF Placeholder](https://www.tensorflow.org/api_docs/python/tf/placeholder).\n",
    "* Implement `neural_net_label_input`\n",
    " * Return a [TF Placeholder](https://www.tensorflow.org/api_docs/python/tf/placeholder)\n",
    " * Set the shape using `n_classes` with batch size set to `None`.\n",
    " * Name the TensorFlow placeholder \"y\" using the TensorFlow `name` parameter in the [TF Placeholder](https://www.tensorflow.org/api_docs/python/tf/placeholder).\n",
    "* Implement `neural_net_keep_prob_input`\n",
    " * Return a [TF Placeholder](https://www.tensorflow.org/api_docs/python/tf/placeholder) for dropout keep probability.\n",
    " * Name the TensorFlow placeholder \"keep_prob\" using the TensorFlow `name` parameter in the [TF Placeholder](https://www.tensorflow.org/api_docs/python/tf/placeholder).\n",
    "\n",
    "These names will be used at the end of the project to load your saved model.\n",
    "\n",
    "Note: `None` for shapes in TensorFlow allow for a dynamic size."
   ]
  },
  {
   "cell_type": "code",
   "execution_count": 9,
   "metadata": {
    "collapsed": false,
    "deletable": true,
    "editable": true
   },
   "outputs": [
    {
     "name": "stdout",
     "output_type": "stream",
     "text": [
      "Image Input Tests Passed.\n",
      "Label Input Tests Passed.\n",
      "Keep Prob Tests Passed.\n"
     ]
    }
   ],
   "source": [
    "import tensorflow as tf\n",
    "\n",
    "def neural_net_image_input(image_shape):\n",
    "    \"\"\"\n",
    "    Return a Tensor for a bach of image input\n",
    "    : image_shape: Shape of the images\n",
    "    : return: Tensor for image input.\n",
    "    \"\"\"\n",
    "    # TODO: Implement Function\n",
    "    return tf.placeholder(tf.float32, shape = [None, *image_shape], name = \"x\")\n",
    "\n",
    "\n",
    "def neural_net_label_input(n_classes):\n",
    "    \"\"\"\n",
    "    Return a Tensor for a batch of label input\n",
    "    : n_classes: Number of classes\n",
    "    : return: Tensor for label input.\n",
    "    \"\"\"\n",
    "    # TODO: Implement Function\n",
    "    return tf.placeholder(tf.float32, shape = [None, n_classes], name = \"y\")\n",
    "\n",
    "\n",
    "def neural_net_keep_prob_input():\n",
    "    \"\"\"\n",
    "    Return a Tensor for keep probability\n",
    "    : return: Tensor for keep probability.\n",
    "    \"\"\"\n",
    "    # TODO: Implement Function\n",
    "    return tf.placeholder(tf.float32,  name = \"keep_prob\")\n",
    "\n",
    "\n",
    "\"\"\"\n",
    "DON'T MODIFY ANYTHING IN THIS CELL THAT IS BELOW THIS LINE\n",
    "\"\"\"\n",
    "tf.reset_default_graph()\n",
    "tests.test_nn_image_inputs(neural_net_image_input)\n",
    "tests.test_nn_label_inputs(neural_net_label_input)\n",
    "tests.test_nn_keep_prob_inputs(neural_net_keep_prob_input)"
   ]
  },
  {
   "cell_type": "markdown",
   "metadata": {
    "deletable": true,
    "editable": true
   },
   "source": [
    "### Convolution and Max Pooling Layer\n",
    "Convolution layers have a lot of success with images. For this code cell, you should implement the function `conv2d_maxpool` to apply convolution then max pooling:\n",
    "* Create the weight and bias using `conv_ksize`, `conv_num_outputs` and the shape of `x_tensor`.\n",
    "* Apply a convolution to `x_tensor` using weight and `conv_strides`.\n",
    " * We recommend you use same padding, but you're welcome to use any padding.\n",
    "* Add bias\n",
    "* Add a nonlinear activation to the convolution.\n",
    "* Apply Max Pooling using `pool_ksize` and `pool_strides`.\n",
    " * We recommend you use same padding, but you're welcome to use any padding.\n",
    "\n",
    "**Note:** You **can't** use [TensorFlow Layers](https://www.tensorflow.org/api_docs/python/tf/layers) or [TensorFlow Layers (contrib)](https://www.tensorflow.org/api_guides/python/contrib.layers) for **this** layer, but you can still use TensorFlow's [Neural Network](https://www.tensorflow.org/api_docs/python/tf/nn) package. You may still use the shortcut option for all the **other** layers."
   ]
  },
  {
   "cell_type": "code",
   "execution_count": 10,
   "metadata": {
    "collapsed": false,
    "deletable": true,
    "editable": true
   },
   "outputs": [
    {
     "name": "stdout",
     "output_type": "stream",
     "text": [
      "Tests Passed\n"
     ]
    }
   ],
   "source": [
    "\n",
    "def conv2d_maxpool(x_tensor, conv_num_outputs, conv_ksize, conv_strides, pool_ksize, pool_strides):\n",
    "    \"\"\"\n",
    "    Apply convolution then max pooling to x_tensor\n",
    "    :param x_tensor: TensorFlow Tensor\n",
    "    :param conv_num_outputs: Number of outputs for the convolutional layer\n",
    "    :param conv_ksize: kernal size 2-D Tuple for the convolutional layer\n",
    "    :param conv_strides: Stride 2-D Tuple for convolution\n",
    "    :param pool_ksize: kernal size 2-D Tuple for pool\n",
    "    :param pool_strides: Stride 2-D Tuple for pool\n",
    "    : return: A tensor that represents convolution and max pooling of x_tensor\n",
    "    \"\"\"\n",
    "    #input_depth equals 4th D of input\n",
    "    input_depth = int(x_tensor.get_shape()[3])\n",
    "    \n",
    "    #create filter for convolution\n",
    "    #[height, width, input_depth, out_depth]\n",
    "    filter_weights = tf.Variable(tf.truncated_normal([*conv_ksize, input_depth, conv_num_outputs],mean = 0.0,\n",
    "        stddev=0.1, dtype=tf.float32))\n",
    "    \n",
    "    #use tf.nn.conv2d for convolution step :\n",
    "    #tf.nn.conv2d(input, filter, strides, padding, use_cudnn_on_gpu=None, name=None)\n",
    "    feature_map = tf.nn.conv2d(x_tensor, filter_weights, [1, *conv_strides, 1], 'SAME')\n",
    "\n",
    "    #create bias\n",
    "    bias = tf.Variable(tf.zeros(conv_num_outputs), trainable=True)\n",
    "    #add bias\n",
    "#     feature_map = tf.add(feature_map, bias)\n",
    "    feature_map = tf.nn.bias_add(feature_map, bias)\n",
    "    \n",
    "    #add nonlinear activation function (relu)\n",
    "    feature_map = tf.nn.relu(feature_map)\n",
    "    \n",
    "    #use tf.nn.max_pool for max pooling step:\n",
    "    #tf.nn.max_pool(value, ksize, strides, padding, name=None)\n",
    "    return tf.nn.max_pool(feature_map, [1, *pool_ksize, 1], [1, *pool_strides, 1], 'SAME') \n",
    "\n",
    "\n",
    "\"\"\"\n",
    "DON'T MODIFY ANYTHING IN THIS CELL THAT IS BELOW THIS LINE\n",
    "\"\"\"\n",
    "tests.test_con_pool(conv2d_maxpool)"
   ]
  },
  {
   "cell_type": "markdown",
   "metadata": {
    "deletable": true,
    "editable": true
   },
   "source": [
    "### Flatten Layer\n",
    "Implement the `flatten` function to change the dimension of `x_tensor` from a 4-D tensor to a 2-D tensor.  The output should be the shape (*Batch Size*, *Flattened Image Size*). Shortcut option: you can use classes from the [TensorFlow Layers](https://www.tensorflow.org/api_docs/python/tf/layers) or [TensorFlow Layers (contrib)](https://www.tensorflow.org/api_guides/python/contrib.layers) packages for this layer. For more of a challenge, only use other TensorFlow packages."
   ]
  },
  {
   "cell_type": "code",
   "execution_count": 12,
   "metadata": {
    "collapsed": false,
    "deletable": true,
    "editable": true
   },
   "outputs": [
    {
     "name": "stdout",
     "output_type": "stream",
     "text": [
      "Tests Passed\n"
     ]
    }
   ],
   "source": [
    "def flatten(x_tensor):\n",
    "    \"\"\"\n",
    "    Flatten x_tensor to (Batch Size, Flattened Image Size)\n",
    "    : x_tensor: A tensor of size (Batch Size, ...), where ... are the image dimensions.\n",
    "    : return: A tensor of size (Batch Size, Flattened Image Size).\n",
    "    \"\"\"\n",
    "    w = x_tensor.shape[1].value\n",
    "    h = x_tensor.shape[2].value\n",
    "    d = x_tensor.shape[3].value\n",
    "    return tf.reshape(x_tensor, [-1, w * h * d])\n",
    "\n",
    "#     return tf.contrib.layers.flatten(x_tensor)\n",
    "\n",
    "\n",
    "\"\"\"\n",
    "DON'T MODIFY ANYTHING IN THIS CELL THAT IS BELOW THIS LINE\n",
    "\"\"\"\n",
    "tests.test_flatten(flatten)"
   ]
  },
  {
   "cell_type": "markdown",
   "metadata": {
    "deletable": true,
    "editable": true
   },
   "source": [
    "### Fully-Connected Layer\n",
    "Implement the `fully_conn` function to apply a fully connected layer to `x_tensor` with the shape (*Batch Size*, *num_outputs*). Shortcut option: you can use classes from the [TensorFlow Layers](https://www.tensorflow.org/api_docs/python/tf/layers) or [TensorFlow Layers (contrib)](https://www.tensorflow.org/api_guides/python/contrib.layers) packages for this layer. For more of a challenge, only use other TensorFlow packages."
   ]
  },
  {
   "cell_type": "code",
   "execution_count": 13,
   "metadata": {
    "collapsed": false,
    "deletable": true,
    "editable": true
   },
   "outputs": [
    {
     "name": "stdout",
     "output_type": "stream",
     "text": [
      "Tests Passed\n"
     ]
    }
   ],
   "source": [
    "def fully_conn(x_tensor, num_outputs):\n",
    "    \"\"\"\n",
    "    Apply a fully connected layer to x_tensor using weight and bias\n",
    "    : x_tensor: A 2-D tensor where the first dimension is batch size.\n",
    "    : num_outputs: The number of output that the new tensor should be.\n",
    "    : return: A 2-D tensor where the second dimension is num_outputs.\n",
    "    \"\"\"\n",
    "    return tf.contrib.layers.fully_connected(x_tensor, num_outputs, activation_fn=tf.nn.relu)\n",
    "\n",
    "\n",
    "\"\"\"\n",
    "DON'T MODIFY ANYTHING IN THIS CELL THAT IS BELOW THIS LINE\n",
    "\"\"\"\n",
    "tests.test_fully_conn(fully_conn)"
   ]
  },
  {
   "cell_type": "markdown",
   "metadata": {
    "deletable": true,
    "editable": true
   },
   "source": [
    "### Output Layer\n",
    "Implement the `output` function to apply a fully connected layer to `x_tensor` with the shape (*Batch Size*, *num_outputs*). Shortcut option: you can use classes from the [TensorFlow Layers](https://www.tensorflow.org/api_docs/python/tf/layers) or [TensorFlow Layers (contrib)](https://www.tensorflow.org/api_guides/python/contrib.layers) packages for this layer. For more of a challenge, only use other TensorFlow packages.\n",
    "\n",
    "**Note:** Activation, softmax, or cross entropy should **not** be applied to this."
   ]
  },
  {
   "cell_type": "code",
   "execution_count": 14,
   "metadata": {
    "collapsed": false,
    "deletable": true,
    "editable": true
   },
   "outputs": [
    {
     "name": "stdout",
     "output_type": "stream",
     "text": [
      "Tests Passed\n"
     ]
    }
   ],
   "source": [
    "def output(x_tensor, num_outputs):\n",
    "    \"\"\"\n",
    "    Apply a output layer to x_tensor using weight and bias\n",
    "    : x_tensor: A 2-D tensor where the first dimension is batch size.\n",
    "    : num_outputs: The number of output that the new tensor should be.\n",
    "    : return: A 2-D tensor where the second dimension is num_outputs.\n",
    "    \"\"\"\n",
    "    return tf.contrib.layers.fully_connected(x_tensor, num_outputs, activation_fn=None)\n",
    "\n",
    "\n",
    "\"\"\"\n",
    "DON'T MODIFY ANYTHING IN THIS CELL THAT IS BELOW THIS LINE\n",
    "\"\"\"\n",
    "tests.test_output(output)"
   ]
  },
  {
   "cell_type": "markdown",
   "metadata": {
    "deletable": true,
    "editable": true
   },
   "source": [
    "### Create Convolutional Model\n",
    "Implement the function `conv_net` to create a convolutional neural network model. The function takes in a batch of images, `x`, and outputs logits.  Use the layers you created above to create this model:\n",
    "\n",
    "* Apply 1, 2, or 3 Convolution and Max Pool layers\n",
    "* Apply a Flatten Layer\n",
    "* Apply 1, 2, or 3 Fully Connected Layers\n",
    "* Apply an Output Layer\n",
    "* Return the output\n",
    "* Apply [TensorFlow's Dropout](https://www.tensorflow.org/api_docs/python/tf/nn/dropout) to one or more layers in the model using `keep_prob`. "
   ]
  },
  {
   "cell_type": "code",
   "execution_count": 15,
   "metadata": {
    "collapsed": false,
    "deletable": true,
    "editable": true
   },
   "outputs": [
    {
     "name": "stdout",
     "output_type": "stream",
     "text": [
      "Neural Network Built!\n"
     ]
    }
   ],
   "source": [
    "\n",
    "def conv_net(x, keep_prob):\n",
    "    \"\"\"\n",
    "    Create a convolutional neural network model\n",
    "    : x: Placeholder tensor that holds image data.\n",
    "    : keep_prob: Placeholder tensor that hold dropout keep probability.\n",
    "    : return: Tensor that represents logits\n",
    "    \"\"\"\n",
    "    # TODO: Apply 1, 2, or 3 Convolution and Max Pool layers\n",
    "    #    Play around with different number of outputs, kernel size and stride\n",
    "    # Function Definition from Above:\n",
    "    #    conv2d_maxpool(x_tensor, conv_num_outputs, conv_ksize, conv_strides, pool_ksize, pool_strides)\n",
    "    conv1 = conv2d_maxpool(x, 24, (3, 3), (1, 1),(2, 2), (2, 2))\n",
    "#     conv1 = tf.nn.dropout(conv1, keep_prob)\n",
    "    conv2 = conv2d_maxpool(conv1, 48, (3, 3), (1, 1), (2, 2), (2, 2))\n",
    "#     conv2 = tf.nn.dropout(conv2, keep_prob)\n",
    "    conv3 = conv2d_maxpool(conv2, 96, (3, 3), (1, 1), (2, 2), (2, 2))\n",
    "    \n",
    "    # TODO: Apply a Flatten Layer\n",
    "    # Function Definition from Above:\n",
    "    #   flatten(x_tensor)\n",
    "    flatten_1ayer = flatten(conv3)\n",
    "\n",
    "    # TODO: Apply 1, 2, or 3 Fully Connected Layers\n",
    "    #    Play around with different number of outputs\n",
    "    # Function Definition from Above:\n",
    "    #   fully_conn(x_tensor, num_outputs)\n",
    "    fc1 = fully_conn(flatten_1ayer, 512)\n",
    "    fc1 = tf.nn.dropout(fc1, keep_prob)\n",
    "    fc2 = fully_conn(fc1, 512)\n",
    "    fc2 = tf.nn.dropout(fc2, keep_prob)\n",
    "    \n",
    "    \n",
    "    # TODO: Apply an Output Layer\n",
    "    #    Set this to the number of classes\n",
    "    # Function Definition from Above:\n",
    "    #   output(x_tensor, num_outputs)\n",
    "    out = output(fc2, 10)\n",
    "    \n",
    "    # TODO: return output\n",
    "    return out\n",
    "\n",
    "\n",
    "\"\"\"\n",
    "DON'T MODIFY ANYTHING IN THIS CELL THAT IS BELOW THIS LINE\n",
    "\"\"\"\n",
    "\n",
    "##############################\n",
    "## Build the Neural Network ##\n",
    "##############################\n",
    "\n",
    "# Remove previous weights, bias, inputs, etc..\n",
    "tf.reset_default_graph()\n",
    "\n",
    "# Inputs\n",
    "x = neural_net_image_input((32, 32, 3))\n",
    "y = neural_net_label_input(10)\n",
    "keep_prob = neural_net_keep_prob_input()\n",
    "\n",
    "# Model\n",
    "logits = conv_net(x, keep_prob)\n",
    "\n",
    "# Name logits Tensor, so that is can be loaded from disk after training\n",
    "logits = tf.identity(logits, name='logits')\n",
    "\n",
    "# Loss and Optimizer\n",
    "cost = tf.reduce_mean(tf.nn.softmax_cross_entropy_with_logits(logits=logits, labels=y))\n",
    "optimizer = tf.train.AdamOptimizer().minimize(cost)\n",
    "\n",
    "# Accuracy\n",
    "correct_pred = tf.equal(tf.argmax(logits, 1), tf.argmax(y, 1))\n",
    "accuracy = tf.reduce_mean(tf.cast(correct_pred, tf.float32), name='accuracy')\n",
    "\n",
    "tests.test_conv_net(conv_net)"
   ]
  },
  {
   "cell_type": "markdown",
   "metadata": {
    "deletable": true,
    "editable": true
   },
   "source": [
    "## Train the Neural Network\n",
    "### Single Optimization\n",
    "Implement the function `train_neural_network` to do a single optimization.  The optimization should use `optimizer` to optimize in `session` with a `feed_dict` of the following:\n",
    "* `x` for image input\n",
    "* `y` for labels\n",
    "* `keep_prob` for keep probability for dropout\n",
    "\n",
    "This function will be called for each batch, so `tf.global_variables_initializer()` has already been called.\n",
    "\n",
    "Note: Nothing needs to be returned. This function is only optimizing the neural network."
   ]
  },
  {
   "cell_type": "code",
   "execution_count": 16,
   "metadata": {
    "collapsed": false,
    "deletable": true,
    "editable": true
   },
   "outputs": [
    {
     "name": "stdout",
     "output_type": "stream",
     "text": [
      "Tests Passed\n"
     ]
    }
   ],
   "source": [
    "\n",
    "def train_neural_network(session, optimizer, keep_probability, feature_batch, label_batch):\n",
    "    \"\"\"\n",
    "    Optimize the session on a batch of images and labels\n",
    "    : session: Current TensorFlow session\n",
    "    : optimizer: TensorFlow optimizer function\n",
    "    : keep_probability: keep probability\n",
    "    : feature_batch: Batch of Numpy image data\n",
    "    : label_batch: Batch of Numpy label data\n",
    "    \"\"\"\n",
    "    # TODO: Implement Function\n",
    "    session.run(optimizer, feed_dict={x: feature_batch, y: label_batch, keep_prob: keep_probability})\n",
    "\n",
    "\"\"\"\n",
    "DON'T MODIFY ANYTHING IN THIS CELL THAT IS BELOW THIS LINE\n",
    "\"\"\"\n",
    "tests.test_train_nn(train_neural_network)"
   ]
  },
  {
   "cell_type": "markdown",
   "metadata": {
    "deletable": true,
    "editable": true
   },
   "source": [
    "### Show Stats\n",
    "Implement the function `print_stats` to print loss and validation accuracy.  Use the global variables `valid_features` and `valid_labels` to calculate validation accuracy.  Use a keep probability of `1.0` to calculate the loss and validation accuracy."
   ]
  },
  {
   "cell_type": "code",
   "execution_count": 17,
   "metadata": {
    "collapsed": false,
    "deletable": true,
    "editable": true
   },
   "outputs": [],
   "source": [
    "def print_stats(session, feature_batch, label_batch, cost, accuracy):\n",
    "    \"\"\"\n",
    "    Print information about loss and validation accuracy\n",
    "    : session: Current TensorFlow session\n",
    "    : feature_batch: Batch of Numpy image data\n",
    "    : label_batch: Batch of Numpy label data\n",
    "    : cost: TensorFlow cost function\n",
    "    : accuracy: TensorFlow accuracy function\n",
    "    \"\"\"\n",
    "    # TODO: Implement Function\n",
    "    loss = session.run(cost, feed_dict={x: feature_batch, y: label_batch, keep_prob: 1.0})\n",
    "    accuracy = session.run(accuracy, feed_dict={x: valid_features, y: valid_labels, keep_prob: 1.0})\n",
    "    print(\"Loss: {} Accuracy: {}\".format(loss, accuracy))"
   ]
  },
  {
   "cell_type": "markdown",
   "metadata": {
    "deletable": true,
    "editable": true
   },
   "source": [
    "### Hyperparameters\n",
    "Tune the following parameters:\n",
    "* Set `epochs` to the number of iterations until the network stops learning or start overfitting\n",
    "* Set `batch_size` to the highest number that your machine has memory for.  Most people set them to common sizes of memory:\n",
    " * 64\n",
    " * 128\n",
    " * 256\n",
    " * ...\n",
    "* Set `keep_probability` to the probability of keeping a node using dropout"
   ]
  },
  {
   "cell_type": "code",
   "execution_count": 18,
   "metadata": {
    "collapsed": true,
    "deletable": true,
    "editable": true
   },
   "outputs": [],
   "source": [
    "# TODO: Tune Parameters\n",
    "epochs = 30\n",
    "batch_size = 256\n",
    "keep_probability = 0.7"
   ]
  },
  {
   "cell_type": "markdown",
   "metadata": {
    "deletable": true,
    "editable": true
   },
   "source": [
    "### Train on a Single CIFAR-10 Batch\n",
    "Instead of training the neural network on all the CIFAR-10 batches of data, let's use a single batch. This should save time while you iterate on the model to get a better accuracy.  Once the final validation accuracy is 50% or greater, run the model on all the data in the next section."
   ]
  },
  {
   "cell_type": "code",
   "execution_count": 19,
   "metadata": {
    "collapsed": false,
    "deletable": true,
    "editable": true
   },
   "outputs": [
    {
     "name": "stdout",
     "output_type": "stream",
     "text": [
      "Checking the Training on a Single Batch...\n",
      "Epoch  1, CIFAR-10 Batch 1:  Loss: 2.0485363006591797 Accuracy: 0.34519997239112854\n",
      "Epoch  2, CIFAR-10 Batch 1:  Loss: 1.6210944652557373 Accuracy: 0.4358000159263611\n",
      "Epoch  3, CIFAR-10 Batch 1:  Loss: 1.357907772064209 Accuracy: 0.465999960899353\n",
      "Epoch  4, CIFAR-10 Batch 1:  Loss: 1.14601469039917 Accuracy: 0.5059999823570251\n",
      "Epoch  5, CIFAR-10 Batch 1:  Loss: 0.9549973607063293 Accuracy: 0.521399974822998\n",
      "Epoch  6, CIFAR-10 Batch 1:  Loss: 0.7943536043167114 Accuracy: 0.543999969959259\n",
      "Epoch  7, CIFAR-10 Batch 1:  Loss: 0.6130532622337341 Accuracy: 0.561799943447113\n",
      "Epoch  8, CIFAR-10 Batch 1:  Loss: 0.4595446288585663 Accuracy: 0.5771998763084412\n",
      "Epoch  9, CIFAR-10 Batch 1:  Loss: 0.3883518874645233 Accuracy: 0.5661998987197876\n",
      "Epoch 10, CIFAR-10 Batch 1:  Loss: 0.2761875092983246 Accuracy: 0.5879999399185181\n",
      "Epoch 11, CIFAR-10 Batch 1:  Loss: 0.20339243113994598 Accuracy: 0.5805999040603638\n",
      "Epoch 12, CIFAR-10 Batch 1:  Loss: 0.14784188568592072 Accuracy: 0.6061999201774597\n",
      "Epoch 13, CIFAR-10 Batch 1:  Loss: 0.131760835647583 Accuracy: 0.5913999080657959\n",
      "Epoch 14, CIFAR-10 Batch 1:  Loss: 0.07559610158205032 Accuracy: 0.6175998449325562\n",
      "Epoch 15, CIFAR-10 Batch 1:  Loss: 0.049813684076070786 Accuracy: 0.6065998673439026\n",
      "Epoch 16, CIFAR-10 Batch 1:  Loss: 0.057541921734809875 Accuracy: 0.5815998315811157\n",
      "Epoch 17, CIFAR-10 Batch 1:  Loss: 0.07627901434898376 Accuracy: 0.5783999562263489\n",
      "Epoch 18, CIFAR-10 Batch 1:  Loss: 0.039209917187690735 Accuracy: 0.5987998843193054\n",
      "Epoch 19, CIFAR-10 Batch 1:  Loss: 0.027776943519711494 Accuracy: 0.602199912071228\n",
      "Epoch 20, CIFAR-10 Batch 1:  Loss: 0.01853320561349392 Accuracy: 0.5917999148368835\n",
      "Epoch 21, CIFAR-10 Batch 1:  Loss: 0.02381996624171734 Accuracy: 0.586199939250946\n",
      "Epoch 22, CIFAR-10 Batch 1:  Loss: 0.027040908113121986 Accuracy: 0.5881999731063843\n",
      "Epoch 23, CIFAR-10 Batch 1:  Loss: 0.011905228719115257 Accuracy: 0.5733999013900757\n",
      "Epoch 24, CIFAR-10 Batch 1:  Loss: 0.012604319490492344 Accuracy: 0.5907999277114868\n",
      "Epoch 25, CIFAR-10 Batch 1:  Loss: 0.029482655227184296 Accuracy: 0.593799889087677\n",
      "Epoch 26, CIFAR-10 Batch 1:  Loss: 0.013519993983209133 Accuracy: 0.5709999203681946\n",
      "Epoch 27, CIFAR-10 Batch 1:  Loss: 0.005977503024041653 Accuracy: 0.5997999310493469\n",
      "Epoch 28, CIFAR-10 Batch 1:  Loss: 0.008030951023101807 Accuracy: 0.5973999500274658\n",
      "Epoch 29, CIFAR-10 Batch 1:  Loss: 0.004078395199030638 Accuracy: 0.605199933052063\n",
      "Epoch 30, CIFAR-10 Batch 1:  Loss: 0.0018795663490891457 Accuracy: 0.6031998991966248\n"
     ]
    }
   ],
   "source": [
    "\"\"\"\n",
    "DON'T MODIFY ANYTHING IN THIS CELL\n",
    "\"\"\"\n",
    "print('Checking the Training on a Single Batch...')\n",
    "with tf.Session() as sess:\n",
    "    # Initializing the variables\n",
    "    sess.run(tf.global_variables_initializer())\n",
    "    \n",
    "    # Training cycle\n",
    "    for epoch in range(epochs):\n",
    "        batch_i = 1\n",
    "        for batch_features, batch_labels in helper.load_preprocess_training_batch(batch_i, batch_size):\n",
    "            train_neural_network(sess, optimizer, keep_probability, batch_features, batch_labels)\n",
    "        print('Epoch {:>2}, CIFAR-10 Batch {}:  '.format(epoch + 1, batch_i), end='')\n",
    "        print_stats(sess, batch_features, batch_labels, cost, accuracy)"
   ]
  },
  {
   "cell_type": "markdown",
   "metadata": {
    "deletable": true,
    "editable": true
   },
   "source": [
    "### Fully Train the Model\n",
    "Now that you got a good accuracy with a single CIFAR-10 batch, try it with all five batches."
   ]
  },
  {
   "cell_type": "code",
   "execution_count": 20,
   "metadata": {
    "collapsed": false,
    "deletable": true,
    "editable": true
   },
   "outputs": [
    {
     "name": "stdout",
     "output_type": "stream",
     "text": [
      "Training...\n",
      "Epoch  1, CIFAR-10 Batch 1:  Loss: 2.112544298171997 Accuracy: 0.30959996581077576\n",
      "Epoch  1, CIFAR-10 Batch 2:  Loss: 1.6531739234924316 Accuracy: 0.3566000163555145\n",
      "Epoch  1, CIFAR-10 Batch 3:  Loss: 1.2306548357009888 Accuracy: 0.42659997940063477\n",
      "Epoch  1, CIFAR-10 Batch 4:  Loss: 1.3230353593826294 Accuracy: 0.4549999535083771\n",
      "Epoch  1, CIFAR-10 Batch 5:  Loss: 1.3545188903808594 Accuracy: 0.5179999470710754\n",
      "Epoch  2, CIFAR-10 Batch 1:  Loss: 1.2719331979751587 Accuracy: 0.533799946308136\n",
      "Epoch  2, CIFAR-10 Batch 2:  Loss: 1.064954400062561 Accuracy: 0.5375999808311462\n",
      "Epoch  2, CIFAR-10 Batch 3:  Loss: 0.8394896984100342 Accuracy: 0.5317999720573425\n",
      "Epoch  2, CIFAR-10 Batch 4:  Loss: 0.9895157217979431 Accuracy: 0.5557999014854431\n",
      "Epoch  2, CIFAR-10 Batch 5:  Loss: 1.0148924589157104 Accuracy: 0.5851998925209045\n",
      "Epoch  3, CIFAR-10 Batch 1:  Loss: 0.9642731547355652 Accuracy: 0.5865998864173889\n",
      "Epoch  3, CIFAR-10 Batch 2:  Loss: 0.7703679800033569 Accuracy: 0.5859999060630798\n",
      "Epoch  3, CIFAR-10 Batch 3:  Loss: 0.590480625629425 Accuracy: 0.596599817276001\n",
      "Epoch  3, CIFAR-10 Batch 4:  Loss: 0.7265022397041321 Accuracy: 0.6245999336242676\n",
      "Epoch  3, CIFAR-10 Batch 5:  Loss: 0.6972839832305908 Accuracy: 0.6479998826980591\n",
      "Epoch  4, CIFAR-10 Batch 1:  Loss: 0.7043042182922363 Accuracy: 0.6301999092102051\n",
      "Epoch  4, CIFAR-10 Batch 2:  Loss: 0.5647144317626953 Accuracy: 0.6271998882293701\n",
      "Epoch  4, CIFAR-10 Batch 3:  Loss: 0.365793377161026 Accuracy: 0.6533999443054199\n",
      "Epoch  4, CIFAR-10 Batch 4:  Loss: 0.49617594480514526 Accuracy: 0.6623998880386353\n",
      "Epoch  4, CIFAR-10 Batch 5:  Loss: 0.4610860347747803 Accuracy: 0.6631999015808105\n",
      "Epoch  5, CIFAR-10 Batch 1:  Loss: 0.5353931784629822 Accuracy: 0.6661998629570007\n",
      "Epoch  5, CIFAR-10 Batch 2:  Loss: 0.37058964371681213 Accuracy: 0.6653998494148254\n",
      "Epoch  5, CIFAR-10 Batch 3:  Loss: 0.263595312833786 Accuracy: 0.6831998825073242\n",
      "Epoch  5, CIFAR-10 Batch 4:  Loss: 0.3442836403846741 Accuracy: 0.6817998886108398\n",
      "Epoch  5, CIFAR-10 Batch 5:  Loss: 0.3173340857028961 Accuracy: 0.6707998514175415\n",
      "Epoch  6, CIFAR-10 Batch 1:  Loss: 0.34460872411727905 Accuracy: 0.6675999164581299\n",
      "Epoch  6, CIFAR-10 Batch 2:  Loss: 0.28248170018196106 Accuracy: 0.6529998779296875\n",
      "Epoch  6, CIFAR-10 Batch 3:  Loss: 0.25685030221939087 Accuracy: 0.6877998113632202\n",
      "Epoch  6, CIFAR-10 Batch 4:  Loss: 0.2281402349472046 Accuracy: 0.6827998757362366\n",
      "Epoch  6, CIFAR-10 Batch 5:  Loss: 0.2250550091266632 Accuracy: 0.6725997924804688\n",
      "Epoch  7, CIFAR-10 Batch 1:  Loss: 0.23398557305335999 Accuracy: 0.7005999088287354\n",
      "Epoch  7, CIFAR-10 Batch 2:  Loss: 0.18218141794204712 Accuracy: 0.6861998438835144\n",
      "Epoch  7, CIFAR-10 Batch 3:  Loss: 0.18231825530529022 Accuracy: 0.6919998526573181\n",
      "Epoch  7, CIFAR-10 Batch 4:  Loss: 0.1570318341255188 Accuracy: 0.6863999366760254\n",
      "Epoch  7, CIFAR-10 Batch 5:  Loss: 0.15576909482479095 Accuracy: 0.6985998749732971\n",
      "Epoch  8, CIFAR-10 Batch 1:  Loss: 0.14750391244888306 Accuracy: 0.7145997881889343\n",
      "Epoch  8, CIFAR-10 Batch 2:  Loss: 0.13041144609451294 Accuracy: 0.6849998831748962\n",
      "Epoch  8, CIFAR-10 Batch 3:  Loss: 0.11366862058639526 Accuracy: 0.6973998546600342\n",
      "Epoch  8, CIFAR-10 Batch 4:  Loss: 0.10752098262310028 Accuracy: 0.7119998931884766\n",
      "Epoch  8, CIFAR-10 Batch 5:  Loss: 0.1166822761297226 Accuracy: 0.7067998647689819\n",
      "Epoch  9, CIFAR-10 Batch 1:  Loss: 0.14789508283138275 Accuracy: 0.691399872303009\n",
      "Epoch  9, CIFAR-10 Batch 2:  Loss: 0.11320638656616211 Accuracy: 0.7049999237060547\n",
      "Epoch  9, CIFAR-10 Batch 3:  Loss: 0.08642356097698212 Accuracy: 0.6777998208999634\n",
      "Epoch  9, CIFAR-10 Batch 4:  Loss: 0.10720667243003845 Accuracy: 0.7075998187065125\n",
      "Epoch  9, CIFAR-10 Batch 5:  Loss: 0.09127990901470184 Accuracy: 0.6995999217033386\n",
      "Epoch 10, CIFAR-10 Batch 1:  Loss: 0.12118149548768997 Accuracy: 0.7045998573303223\n",
      "Epoch 10, CIFAR-10 Batch 2:  Loss: 0.07068537920713425 Accuracy: 0.7273998260498047\n",
      "Epoch 10, CIFAR-10 Batch 3:  Loss: 0.04752166196703911 Accuracy: 0.6937998533248901\n",
      "Epoch 10, CIFAR-10 Batch 4:  Loss: 0.08086535334587097 Accuracy: 0.7185998558998108\n",
      "Epoch 10, CIFAR-10 Batch 5:  Loss: 0.0705229863524437 Accuracy: 0.6933998465538025\n",
      "Epoch 11, CIFAR-10 Batch 1:  Loss: 0.10725508630275726 Accuracy: 0.7059998512268066\n",
      "Epoch 11, CIFAR-10 Batch 2:  Loss: 0.048065051436424255 Accuracy: 0.7203998565673828\n",
      "Epoch 11, CIFAR-10 Batch 3:  Loss: 0.044330768287181854 Accuracy: 0.7127997875213623\n",
      "Epoch 11, CIFAR-10 Batch 4:  Loss: 0.058732978999614716 Accuracy: 0.7123998403549194\n",
      "Epoch 11, CIFAR-10 Batch 5:  Loss: 0.040262382477521896 Accuracy: 0.6995999217033386\n",
      "Epoch 12, CIFAR-10 Batch 1:  Loss: 0.07792209088802338 Accuracy: 0.7061998248100281\n",
      "Epoch 12, CIFAR-10 Batch 2:  Loss: 0.05446862429380417 Accuracy: 0.7145998477935791\n",
      "Epoch 12, CIFAR-10 Batch 3:  Loss: 0.04318922758102417 Accuracy: 0.6987998485565186\n",
      "Epoch 12, CIFAR-10 Batch 4:  Loss: 0.09867759793996811 Accuracy: 0.6987998485565186\n",
      "Epoch 12, CIFAR-10 Batch 5:  Loss: 0.036239176988601685 Accuracy: 0.709199845790863\n",
      "Epoch 13, CIFAR-10 Batch 1:  Loss: 0.05152369290590286 Accuracy: 0.7111998796463013\n",
      "Epoch 13, CIFAR-10 Batch 2:  Loss: 0.03912645950913429 Accuracy: 0.7129998803138733\n",
      "Epoch 13, CIFAR-10 Batch 3:  Loss: 0.021445447579026222 Accuracy: 0.693199872970581\n",
      "Epoch 13, CIFAR-10 Batch 4:  Loss: 0.039390549063682556 Accuracy: 0.7061998844146729\n",
      "Epoch 13, CIFAR-10 Batch 5:  Loss: 0.03230035677552223 Accuracy: 0.7029998302459717\n",
      "Epoch 14, CIFAR-10 Batch 1:  Loss: 0.0317048542201519 Accuracy: 0.7155998945236206\n",
      "Epoch 14, CIFAR-10 Batch 2:  Loss: 0.03221210092306137 Accuracy: 0.7221997976303101\n",
      "Epoch 14, CIFAR-10 Batch 3:  Loss: 0.018737973645329475 Accuracy: 0.7183998227119446\n",
      "Epoch 14, CIFAR-10 Batch 4:  Loss: 0.035417359322309494 Accuracy: 0.6771998405456543\n",
      "Epoch 14, CIFAR-10 Batch 5:  Loss: 0.03026491589844227 Accuracy: 0.7199997901916504\n",
      "Epoch 15, CIFAR-10 Batch 1:  Loss: 0.031595628708601 Accuracy: 0.7201998829841614\n",
      "Epoch 15, CIFAR-10 Batch 2:  Loss: 0.031596384942531586 Accuracy: 0.7101998329162598\n",
      "Epoch 15, CIFAR-10 Batch 3:  Loss: 0.01689041033387184 Accuracy: 0.7257998585700989\n",
      "Epoch 15, CIFAR-10 Batch 4:  Loss: 0.0245792418718338 Accuracy: 0.7047998905181885\n",
      "Epoch 15, CIFAR-10 Batch 5:  Loss: 0.021346187219023705 Accuracy: 0.7081998586654663\n",
      "Epoch 16, CIFAR-10 Batch 1:  Loss: 0.01979251392185688 Accuracy: 0.7275998592376709\n",
      "Epoch 16, CIFAR-10 Batch 2:  Loss: 0.024080462753772736 Accuracy: 0.697199821472168\n",
      "Epoch 16, CIFAR-10 Batch 3:  Loss: 0.016288122162222862 Accuracy: 0.7257998585700989\n",
      "Epoch 16, CIFAR-10 Batch 4:  Loss: 0.01099611446261406 Accuracy: 0.7083998918533325\n",
      "Epoch 16, CIFAR-10 Batch 5:  Loss: 0.016207659617066383 Accuracy: 0.7051998972892761\n",
      "Epoch 17, CIFAR-10 Batch 1:  Loss: 0.022553136572241783 Accuracy: 0.7183998823165894\n",
      "Epoch 17, CIFAR-10 Batch 2:  Loss: 0.018290149047970772 Accuracy: 0.6981998682022095\n",
      "Epoch 17, CIFAR-10 Batch 3:  Loss: 0.011501360684633255 Accuracy: 0.7047998309135437\n",
      "Epoch 17, CIFAR-10 Batch 4:  Loss: 0.013305272907018661 Accuracy: 0.697999894618988\n",
      "Epoch 17, CIFAR-10 Batch 5:  Loss: 0.028393834829330444 Accuracy: 0.6915998458862305\n",
      "Epoch 18, CIFAR-10 Batch 1:  Loss: 0.012385791167616844 Accuracy: 0.7135999202728271\n",
      "Epoch 18, CIFAR-10 Batch 2:  Loss: 0.012904094532132149 Accuracy: 0.7059998512268066\n",
      "Epoch 18, CIFAR-10 Batch 3:  Loss: 0.013263974338769913 Accuracy: 0.7119998931884766\n",
      "Epoch 18, CIFAR-10 Batch 4:  Loss: 0.008464662358164787 Accuracy: 0.709199845790863\n",
      "Epoch 18, CIFAR-10 Batch 5:  Loss: 0.011192908510565758 Accuracy: 0.7147998213768005\n",
      "Epoch 19, CIFAR-10 Batch 1:  Loss: 0.015836160629987717 Accuracy: 0.7187998294830322\n",
      "Epoch 19, CIFAR-10 Batch 2:  Loss: 0.012091264128684998 Accuracy: 0.7263998985290527\n",
      "Epoch 19, CIFAR-10 Batch 3:  Loss: 0.005090974736958742 Accuracy: 0.7185998558998108\n",
      "Epoch 19, CIFAR-10 Batch 4:  Loss: 0.007608938030898571 Accuracy: 0.7185998558998108\n",
      "Epoch 19, CIFAR-10 Batch 5:  Loss: 0.006188578903675079 Accuracy: 0.7279998660087585\n",
      "Epoch 20, CIFAR-10 Batch 1:  Loss: 0.009840385057032108 Accuracy: 0.7105998992919922\n",
      "Epoch 20, CIFAR-10 Batch 2:  Loss: 0.01860671304166317 Accuracy: 0.7213999032974243\n",
      "Epoch 20, CIFAR-10 Batch 3:  Loss: 0.008932748809456825 Accuracy: 0.7127998471260071\n",
      "Epoch 20, CIFAR-10 Batch 4:  Loss: 0.019505701959133148 Accuracy: 0.7203998565673828\n",
      "Epoch 20, CIFAR-10 Batch 5:  Loss: 0.008089101873338223 Accuracy: 0.7171999216079712\n",
      "Epoch 21, CIFAR-10 Batch 1:  Loss: 0.007375127170234919 Accuracy: 0.7077998518943787\n",
      "Epoch 21, CIFAR-10 Batch 2:  Loss: 0.015739839524030685 Accuracy: 0.6993998885154724\n",
      "Epoch 21, CIFAR-10 Batch 3:  Loss: 0.0026130597107112408 Accuracy: 0.7313998341560364\n",
      "Epoch 21, CIFAR-10 Batch 4:  Loss: 0.0073797800578176975 Accuracy: 0.7189998626708984\n",
      "Epoch 21, CIFAR-10 Batch 5:  Loss: 0.004136334639042616 Accuracy: 0.726999819278717\n",
      "Epoch 22, CIFAR-10 Batch 1:  Loss: 0.012242049910128117 Accuracy: 0.7069998383522034\n",
      "Epoch 22, CIFAR-10 Batch 2:  Loss: 0.006847410462796688 Accuracy: 0.7057998180389404\n",
      "Epoch 22, CIFAR-10 Batch 3:  Loss: 0.0028882697224617004 Accuracy: 0.7229998707771301\n",
      "Epoch 22, CIFAR-10 Batch 4:  Loss: 0.005323335062712431 Accuracy: 0.7221997976303101\n",
      "Epoch 22, CIFAR-10 Batch 5:  Loss: 0.005900833755731583 Accuracy: 0.7183998823165894\n",
      "Epoch 23, CIFAR-10 Batch 1:  Loss: 0.012572075240314007 Accuracy: 0.7159999012947083\n",
      "Epoch 23, CIFAR-10 Batch 2:  Loss: 0.007863488048315048 Accuracy: 0.7091999053955078\n",
      "Epoch 23, CIFAR-10 Batch 3:  Loss: 0.009932225570082664 Accuracy: 0.7219998836517334\n",
      "Epoch 23, CIFAR-10 Batch 4:  Loss: 0.0077650719322264194 Accuracy: 0.7131998538970947\n",
      "Epoch 23, CIFAR-10 Batch 5:  Loss: 0.005240852013230324 Accuracy: 0.7177999019622803\n",
      "Epoch 24, CIFAR-10 Batch 1:  Loss: 0.004159179050475359 Accuracy: 0.7111998796463013\n",
      "Epoch 24, CIFAR-10 Batch 2:  Loss: 0.002723307814449072 Accuracy: 0.7075998783111572\n",
      "Epoch 24, CIFAR-10 Batch 3:  Loss: 0.0019436042057350278 Accuracy: 0.7287997603416443\n",
      "Epoch 24, CIFAR-10 Batch 4:  Loss: 0.004494699649512768 Accuracy: 0.7003998756408691\n",
      "Epoch 24, CIFAR-10 Batch 5:  Loss: 0.004395484924316406 Accuracy: 0.7047998905181885\n",
      "Epoch 25, CIFAR-10 Batch 1:  Loss: 0.0030401782132685184 Accuracy: 0.7171998620033264\n",
      "Epoch 25, CIFAR-10 Batch 2:  Loss: 0.003424465423449874 Accuracy: 0.7195999026298523\n",
      "Epoch 25, CIFAR-10 Batch 3:  Loss: 0.0009000399732030928 Accuracy: 0.7185999155044556\n",
      "Epoch 25, CIFAR-10 Batch 4:  Loss: 0.005635438486933708 Accuracy: 0.7133998274803162\n",
      "Epoch 25, CIFAR-10 Batch 5:  Loss: 0.0016641714610159397 Accuracy: 0.7101998329162598\n",
      "Epoch 26, CIFAR-10 Batch 1:  Loss: 0.0022307748440653086 Accuracy: 0.7129998803138733\n",
      "Epoch 26, CIFAR-10 Batch 2:  Loss: 0.004328511189669371 Accuracy: 0.7191998362541199\n",
      "Epoch 26, CIFAR-10 Batch 3:  Loss: 0.0009674361790530384 Accuracy: 0.7141998410224915\n",
      "Epoch 26, CIFAR-10 Batch 4:  Loss: 0.008180201053619385 Accuracy: 0.6805998682975769\n",
      "Epoch 26, CIFAR-10 Batch 5:  Loss: 0.0016110525466501713 Accuracy: 0.7153998613357544\n",
      "Epoch 27, CIFAR-10 Batch 1:  Loss: 0.0029720556922256947 Accuracy: 0.7101998329162598\n",
      "Epoch 27, CIFAR-10 Batch 2:  Loss: 0.003204014617949724 Accuracy: 0.7235997915267944\n",
      "Epoch 27, CIFAR-10 Batch 3:  Loss: 0.0010754265822470188 Accuracy: 0.7205998301506042\n",
      "Epoch 27, CIFAR-10 Batch 4:  Loss: 0.0067571005783975124 Accuracy: 0.7023998498916626\n",
      "Epoch 27, CIFAR-10 Batch 5:  Loss: 0.000986773637123406 Accuracy: 0.7145998477935791\n",
      "Epoch 28, CIFAR-10 Batch 1:  Loss: 0.0012588354293256998 Accuracy: 0.7163998484611511\n",
      "Epoch 28, CIFAR-10 Batch 2:  Loss: 0.00127497804351151 Accuracy: 0.7307997941970825\n",
      "Epoch 28, CIFAR-10 Batch 3:  Loss: 0.0006658723577857018 Accuracy: 0.7149999141693115\n",
      "Epoch 28, CIFAR-10 Batch 4:  Loss: 0.0022689285688102245 Accuracy: 0.7069998383522034\n",
      "Epoch 28, CIFAR-10 Batch 5:  Loss: 0.0047480035573244095 Accuracy: 0.718599796295166\n",
      "Epoch 29, CIFAR-10 Batch 1:  Loss: 0.0010300636058673263 Accuracy: 0.7241998910903931\n",
      "Epoch 29, CIFAR-10 Batch 2:  Loss: 0.0018439621198922396 Accuracy: 0.71399986743927\n",
      "Epoch 29, CIFAR-10 Batch 3:  Loss: 0.0007610958418808877 Accuracy: 0.7249999046325684\n",
      "Epoch 29, CIFAR-10 Batch 4:  Loss: 0.002926768735051155 Accuracy: 0.7183998227119446\n",
      "Epoch 29, CIFAR-10 Batch 5:  Loss: 0.0008642493048682809 Accuracy: 0.7167998552322388\n",
      "Epoch 30, CIFAR-10 Batch 1:  Loss: 0.0026369616389274597 Accuracy: 0.7113998532295227\n",
      "Epoch 30, CIFAR-10 Batch 2:  Loss: 0.003296597395092249 Accuracy: 0.7197998762130737\n",
      "Epoch 30, CIFAR-10 Batch 3:  Loss: 0.002969844965264201 Accuracy: 0.7223998308181763\n",
      "Epoch 30, CIFAR-10 Batch 4:  Loss: 0.003510106820613146 Accuracy: 0.7055997848510742\n",
      "Epoch 30, CIFAR-10 Batch 5:  Loss: 0.0018673328449949622 Accuracy: 0.7259998321533203\n"
     ]
    }
   ],
   "source": [
    "\"\"\"\n",
    "DON'T MODIFY ANYTHING IN THIS CELL\n",
    "\"\"\"\n",
    "save_model_path = './image_classification'\n",
    "\n",
    "print('Training...')\n",
    "with tf.Session() as sess:\n",
    "    # Initializing the variables\n",
    "    sess.run(tf.global_variables_initializer())\n",
    "    \n",
    "    # Training cycle\n",
    "    for epoch in range(epochs):\n",
    "        # Loop over all batches\n",
    "        n_batches = 5\n",
    "        for batch_i in range(1, n_batches + 1):\n",
    "            for batch_features, batch_labels in helper.load_preprocess_training_batch(batch_i, batch_size):\n",
    "                train_neural_network(sess, optimizer, keep_probability, batch_features, batch_labels)\n",
    "            print('Epoch {:>2}, CIFAR-10 Batch {}:  '.format(epoch + 1, batch_i), end='')\n",
    "            print_stats(sess, batch_features, batch_labels, cost, accuracy)\n",
    "            \n",
    "    # Save Model\n",
    "    saver = tf.train.Saver()\n",
    "    save_path = saver.save(sess, save_model_path)"
   ]
  },
  {
   "cell_type": "markdown",
   "metadata": {
    "deletable": true,
    "editable": true
   },
   "source": [
    "# Checkpoint\n",
    "The model has been saved to disk.\n",
    "## Test Model\n",
    "Test your model against the test dataset.  This will be your final accuracy. You should have an accuracy greater than 50%. If you don't, keep tweaking the model architecture and parameters."
   ]
  },
  {
   "cell_type": "code",
   "execution_count": 21,
   "metadata": {
    "collapsed": false,
    "deletable": true,
    "editable": true
   },
   "outputs": [
    {
     "name": "stdout",
     "output_type": "stream",
     "text": [
      "Testing Accuracy: 0.725390625\n",
      "\n"
     ]
    },
    {
     "data": {
      "image/png": "[encoded data removed]",
      "text/plain": [
       "<matplotlib.figure.Figure at 0x7f2248739668>"
      ]
     },
     "metadata": {
      "image/png": {
       "height": 319,
       "width": 355
      }
     },
     "output_type": "display_data"
    }
   ],
   "source": [
    "\"\"\"\n",
    "DON'T MODIFY ANYTHING IN THIS CELL\n",
    "\"\"\"\n",
    "%matplotlib inline\n",
    "%config InlineBackend.figure_format = 'retina'\n",
    "\n",
    "import tensorflow as tf\n",
    "import pickle\n",
    "import helper\n",
    "import random\n",
    "\n",
    "# Set batch size if not already set\n",
    "try:\n",
    "    if batch_size:\n",
    "        pass\n",
    "except NameError:\n",
    "    batch_size = 64\n",
    "\n",
    "save_model_path = './image_classification'\n",
    "n_samples = 4\n",
    "top_n_predictions = 3\n",
    "\n",
    "def test_model():\n",
    "    \"\"\"\n",
    "    Test the saved model against the test dataset\n",
    "    \"\"\"\n",
    "\n",
    "    test_features, test_labels = pickle.load(open('preprocess_training.p', mode='rb'))\n",
    "    loaded_graph = tf.Graph()\n",
    "\n",
    "    with tf.Session(graph=loaded_graph) as sess:\n",
    "        # Load model\n",
    "        loader = tf.train.import_meta_graph(save_model_path + '.meta')\n",
    "        loader.restore(sess, save_model_path)\n",
    "\n",
    "        # Get Tensors from loaded model\n",
    "        loaded_x = loaded_graph.get_tensor_by_name('x:0')\n",
    "        loaded_y = loaded_graph.get_tensor_by_name('y:0')\n",
    "        loaded_keep_prob = loaded_graph.get_tensor_by_name('keep_prob:0')\n",
    "        loaded_logits = loaded_graph.get_tensor_by_name('logits:0')\n",
    "        loaded_acc = loaded_graph.get_tensor_by_name('accuracy:0')\n",
    "        \n",
    "        # Get accuracy in batches for memory limitations\n",
    "        test_batch_acc_total = 0\n",
    "        test_batch_count = 0\n",
    "        \n",
    "        for train_feature_batch, train_label_batch in helper.batch_features_labels(test_features, test_labels, batch_size):\n",
    "            test_batch_acc_total += sess.run(\n",
    "                loaded_acc,\n",
    "                feed_dict={loaded_x: train_feature_batch, loaded_y: train_label_batch, loaded_keep_prob: 1.0})\n",
    "            test_batch_count += 1\n",
    "\n",
    "        print('Testing Accuracy: {}\\n'.format(test_batch_acc_total/test_batch_count))\n",
    "\n",
    "        # Print Random Samples\n",
    "        random_test_features, random_test_labels = tuple(zip(*random.sample(list(zip(test_features, test_labels)), n_samples)))\n",
    "        random_test_predictions = sess.run(\n",
    "            tf.nn.top_k(tf.nn.softmax(loaded_logits), top_n_predictions),\n",
    "            feed_dict={loaded_x: random_test_features, loaded_y: random_test_labels, loaded_keep_prob: 1.0})\n",
    "        helper.display_image_predictions(random_test_features, random_test_labels, random_test_predictions)\n",
    "\n",
    "\n",
    "test_model()"
   ]
  },
  {
   "cell_type": "markdown",
   "metadata": {
    "deletable": true,
    "editable": true
   },
   "source": [
    "## Why 50-80% Accuracy?\n",
    "You might be wondering why you can't get an accuracy any higher. First things first, 50% isn't bad for a simple CNN.  Pure guessing would get you 10% accuracy. However, you might notice people are getting scores [well above 80%](http://rodrigob.github.io/are_we_there_yet/build/classification_datasets_results.html#43494641522d3130).  That's because we haven't taught you all there is to know about neural networks. We still need to cover a few more techniques.\n",
    "## Submitting This Project\n",
    "When submitting this project, make sure to run all the cells before saving the notebook.  Save the notebook file as \"dlnd_image_classification.ipynb\" and save it as a HTML file under \"File\" -> \"Download as\".  Include the \"helper.py\" and \"problem_unittests.py\" files in your submission."
   ]
  }
 ],
 "metadata": {
  "kernelspec": {
   "display_name": "Python 3",
   "language": "python",
   "name": "python3"
  },
  "language_info": {
   "codemirror_mode": {
    "name": "ipython",
    "version": 3
   },
   "file_extension": ".py",
   "mimetype": "text/x-python",
   "name": "python",
   "nbconvert_exporter": "python",
   "pygments_lexer": "ipython3",
   "version": "3.5.2"
  },
  "widgets": {
   "state": {},
   "version": "1.1.2"
  }
 },
 "nbformat": 4,
 "nbformat_minor": 0
}
